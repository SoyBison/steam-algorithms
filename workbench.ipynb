{
 "metadata": {
  "language_info": {
   "codemirror_mode": {
    "name": "ipython",
    "version": 3
   },
   "file_extension": ".py",
   "mimetype": "text/x-python",
   "name": "python",
   "nbconvert_exporter": "python",
   "pygments_lexer": "ipython3",
   "version": "3.8.5-final"
  },
  "orig_nbformat": 2,
  "kernelspec": {
   "name": "python3",
   "language": "python",
   "display_name": "Python 3"
  }
 },
 "nbformat": 4,
 "nbformat_minor": 2,
 "cells": [
  {
   "cell_type": "code",
   "execution_count": 3,
   "metadata": {},
   "outputs": [],
   "source": [
    "import pandas as pd\n",
    "import numpy as np\n",
    "import dataset\n",
    "import sqlite3\n",
    "from scipy import stats as st\n",
    "import matplotlib.pyplot as plt\n",
    "import time\n",
    "from sklearn.cluster import KMeans\n",
    "from sklearn.metrics import pairwise_distances\n",
    "from tqdm import tqdm\n",
    "\n",
    "\n",
    "DB = sqlite3.connect('steamdata')\n",
    "# Data was taken Feb 24, 2021\n"
   ]
  },
  {
   "cell_type": "code",
   "execution_count": 4,
   "outputs": [],
   "source": [
    "gamesdb = pd.read_sql_query('SELECT * FROM app', DB)\n"
   ],
   "metadata": {
    "collapsed": false,
    "pycharm": {
     "name": "#%%\n"
    }
   }
  },
  {
   "cell_type": "code",
   "execution_count": 5,
   "metadata": {},
   "outputs": [
    {
     "data": {
      "text/plain": "   id  appid                       name         developer publisher  \\\n0   1     10             Counter-Strike             Valve     Valve   \n1   2     20      Team Fortress Classic             Valve     Valve   \n2   3     30              Day of Defeat             Valve     Valve   \n3   4     40         Deathmatch Classic             Valve     Valve   \n4   5     50  Half-Life: Opposing Force  Gearbox Software     Valve   \n\n  score_rank  positive  negative  userscore                    owners  \\\n0               172546      4438          0  10,000,000 .. 20,000,000   \n1                 4743       822          0    1,000,000 .. 2,000,000   \n2                 4601       508          0   5,000,000 .. 10,000,000   \n3                 1688       366          0   5,000,000 .. 10,000,000   \n4                10518       552          0   5,000,000 .. 10,000,000   \n\n   average_forever  average_2weeks  median_forever  median_2weeks price  \\\n0            10112            1359             216           1460   999   \n1               94            1072              15           1072   499   \n2              893            2141              12           2141   499   \n3              113            2141               6           2141   499   \n4              325            1262             114           1262   499   \n\n  initialprice discount    ccu  \n0          999        0  15927  \n1          499        0     79  \n2          499        0    178  \n3          499        0      5  \n4          499        0    130  ",
      "text/html": "<div>\n<style scoped>\n    .dataframe tbody tr th:only-of-type {\n        vertical-align: middle;\n    }\n\n    .dataframe tbody tr th {\n        vertical-align: top;\n    }\n\n    .dataframe thead th {\n        text-align: right;\n    }\n</style>\n<table border=\"1\" class=\"dataframe\">\n  <thead>\n    <tr style=\"text-align: right;\">\n      <th></th>\n      <th>id</th>\n      <th>appid</th>\n      <th>name</th>\n      <th>developer</th>\n      <th>publisher</th>\n      <th>score_rank</th>\n      <th>positive</th>\n      <th>negative</th>\n      <th>userscore</th>\n      <th>owners</th>\n      <th>average_forever</th>\n      <th>average_2weeks</th>\n      <th>median_forever</th>\n      <th>median_2weeks</th>\n      <th>price</th>\n      <th>initialprice</th>\n      <th>discount</th>\n      <th>ccu</th>\n    </tr>\n  </thead>\n  <tbody>\n    <tr>\n      <th>0</th>\n      <td>1</td>\n      <td>10</td>\n      <td>Counter-Strike</td>\n      <td>Valve</td>\n      <td>Valve</td>\n      <td></td>\n      <td>172546</td>\n      <td>4438</td>\n      <td>0</td>\n      <td>10,000,000 .. 20,000,000</td>\n      <td>10112</td>\n      <td>1359</td>\n      <td>216</td>\n      <td>1460</td>\n      <td>999</td>\n      <td>999</td>\n      <td>0</td>\n      <td>15927</td>\n    </tr>\n    <tr>\n      <th>1</th>\n      <td>2</td>\n      <td>20</td>\n      <td>Team Fortress Classic</td>\n      <td>Valve</td>\n      <td>Valve</td>\n      <td></td>\n      <td>4743</td>\n      <td>822</td>\n      <td>0</td>\n      <td>1,000,000 .. 2,000,000</td>\n      <td>94</td>\n      <td>1072</td>\n      <td>15</td>\n      <td>1072</td>\n      <td>499</td>\n      <td>499</td>\n      <td>0</td>\n      <td>79</td>\n    </tr>\n    <tr>\n      <th>2</th>\n      <td>3</td>\n      <td>30</td>\n      <td>Day of Defeat</td>\n      <td>Valve</td>\n      <td>Valve</td>\n      <td></td>\n      <td>4601</td>\n      <td>508</td>\n      <td>0</td>\n      <td>5,000,000 .. 10,000,000</td>\n      <td>893</td>\n      <td>2141</td>\n      <td>12</td>\n      <td>2141</td>\n      <td>499</td>\n      <td>499</td>\n      <td>0</td>\n      <td>178</td>\n    </tr>\n    <tr>\n      <th>3</th>\n      <td>4</td>\n      <td>40</td>\n      <td>Deathmatch Classic</td>\n      <td>Valve</td>\n      <td>Valve</td>\n      <td></td>\n      <td>1688</td>\n      <td>366</td>\n      <td>0</td>\n      <td>5,000,000 .. 10,000,000</td>\n      <td>113</td>\n      <td>2141</td>\n      <td>6</td>\n      <td>2141</td>\n      <td>499</td>\n      <td>499</td>\n      <td>0</td>\n      <td>5</td>\n    </tr>\n    <tr>\n      <th>4</th>\n      <td>5</td>\n      <td>50</td>\n      <td>Half-Life: Opposing Force</td>\n      <td>Gearbox Software</td>\n      <td>Valve</td>\n      <td></td>\n      <td>10518</td>\n      <td>552</td>\n      <td>0</td>\n      <td>5,000,000 .. 10,000,000</td>\n      <td>325</td>\n      <td>1262</td>\n      <td>114</td>\n      <td>1262</td>\n      <td>499</td>\n      <td>499</td>\n      <td>0</td>\n      <td>130</td>\n    </tr>\n  </tbody>\n</table>\n</div>"
     },
     "execution_count": 5,
     "metadata": {},
     "output_type": "execute_result"
    }
   ],
   "source": [
    "gamesdb.head()"
   ]
  },
  {
   "cell_type": "code",
   "execution_count": 6,
   "outputs": [
    {
     "data": {
      "text/plain": "0        0\n1        0\n2        0\n3        0\n4        0\n        ..\n30995    0\n30996    0\n30997    0\n30998    0\n30999    0\nName: discount, Length: 31000, dtype: string"
     },
     "execution_count": 6,
     "metadata": {},
     "output_type": "execute_result"
    }
   ],
   "source": [
    "gamesdb['discount'].convert_dtypes(int)"
   ],
   "metadata": {
    "collapsed": false,
    "pycharm": {
     "name": "#%%\n"
    }
   }
  },
  {
   "cell_type": "code",
   "execution_count": 7,
   "metadata": {},
   "outputs": [],
   "source": [
    "def wilson_score(successes, failures, alpha=0.05):\n",
    "    n = successes + failures\n",
    "    phat = successes / n\n",
    "    z = st.norm.ppf(1-(alpha/2))\n",
    "\n",
    "    return (phat + z**2 / (2*n) - z * np.sqrt((phat*(1-phat) + z**2 / (4*n)) / n))/(1 + z**2 / n)"
   ]
  },
  {
   "cell_type": "code",
   "execution_count": 8,
   "metadata": {
    "pycharm": {
     "name": "#%%\n"
    }
   },
   "outputs": [],
   "source": [
    "gamesdb['userscore'] = wilson_score(gamesdb['positive'], gamesdb['negative'])"
   ]
  },
  {
   "cell_type": "code",
   "execution_count": 9,
   "outputs": [
    {
     "data": {
      "text/plain": "id                                  2964\nappid                            1229490\nname                           ULTRAKILL\ndeveloper           Arsi \"Hakita\" Patala\npublisher          New Blood Interactive\nscore_rank                              \npositive                            6230\nnegative                              31\nuserscore                       0.992981\nowners                200,000 .. 500,000\naverage_forever                      749\naverage_2weeks                        89\nmedian_forever                       881\nmedian_2weeks                         89\nprice                               1999\ninitialprice                        1999\ndiscount                               0\nccu                                  125\nName: 2963, dtype: object"
     },
     "execution_count": 9,
     "metadata": {},
     "output_type": "execute_result"
    }
   ],
   "source": [
    "gamesdb.loc[gamesdb['userscore'].argmax()]"
   ],
   "metadata": {
    "collapsed": false,
    "pycharm": {
     "name": "#%%\n"
    }
   }
  },
  {
   "cell_type": "code",
   "execution_count": 10,
   "outputs": [
    {
     "data": {
      "text/plain": "<AxesSubplot:xlabel='userscore', ylabel='Count'>"
     },
     "execution_count": 10,
     "metadata": {},
     "output_type": "execute_result"
    },
    {
     "data": {
      "text/plain": "<Figure size 432x288 with 1 Axes>",
      "image/png": "[encoded data removed]"
     },
     "metadata": {
      "needs_background": "light"
     },
     "output_type": "display_data"
    }
   ],
   "source": [
    "import seaborn as sns\n",
    "sns.histplot(gamesdb['userscore'], kde=True)"
   ],
   "metadata": {
    "collapsed": false,
    "pycharm": {
     "name": "#%%\n"
    }
   }
  },
  {
   "cell_type": "code",
   "execution_count": 11,
   "outputs": [],
   "source": [
    "gamesdb.to_csv('test.csv', sep='\\t')"
   ],
   "metadata": {
    "collapsed": false,
    "pycharm": {
     "name": "#%%\n"
    }
   }
  },
  {
   "cell_type": "code",
   "execution_count": 12,
   "outputs": [
    {
     "data": {
      "text/plain": "0.9929807556900964"
     },
     "execution_count": 12,
     "metadata": {},
     "output_type": "execute_result"
    }
   ],
   "source": [
    "np.max(gamesdb['userscore'])"
   ],
   "metadata": {
    "collapsed": false,
    "pycharm": {
     "name": "#%%\n"
    }
   }
  },
  {
   "cell_type": "code",
   "execution_count": 13,
   "outputs": [],
   "source": [
    "gamesdb = gamesdb.drop_duplicates(subset='appid')\n",
    "\n",
    "tic = time.time()\n",
    "tagdb = pd.read_sql_query('SELECT * FROM tags', DB)\n",
    "lingdb = pd.read_sql_query('SELECT * FROM languages', DB)\n",
    "genredb = pd.read_sql_query('SELECT * FROM genre', DB)\n",
    "tagdb = tagdb.drop_duplicates(subset='appid')\n",
    "lingdb = lingdb.drop_duplicates(subset='appid')\n",
    "genredb = genredb.drop_duplicates(subset='appid')"
   ],
   "metadata": {
    "collapsed": false,
    "pycharm": {
     "name": "#%%\n"
    }
   }
  },
  {
   "cell_type": "code",
   "execution_count": 14,
   "outputs": [],
   "source": [
    "genredb.loc[:, genredb.columns != \"appid\"] = genredb.loc[:, genredb.columns != \"appid\"].fillna(0)\n",
    "genredb = genredb.astype(int)\n",
    "\n",
    "tagdb.loc[:, tagdb.columns != \"appid\"] = tagdb.loc[:, tagdb.columns != \"appid\"].fillna(0)\n",
    "tagdb = tagdb.astype(int)\n",
    "\n",
    "lingdb.loc[:, lingdb.columns != \"appid\"] = lingdb.loc[:, lingdb.columns != \"appid\"].fillna(0)\n",
    "lingdb = lingdb.astype(int)"
   ],
   "metadata": {
    "collapsed": false,
    "pycharm": {
     "name": "#%%\n"
    }
   }
  },
  {
   "cell_type": "code",
   "execution_count": 15,
   "outputs": [],
   "source": [
    "lings = list(lingdb.columns)\n",
    "goodlings = lings[:34]\n",
    "goodlings.remove('Notsupported')\n",
    "lingdb = lingdb.loc[:, lingdb.columns.isin(goodlings)]"
   ],
   "metadata": {
    "collapsed": false,
    "pycharm": {
     "name": "#%%\n"
    }
   }
  },
  {
   "cell_type": "code",
   "execution_count": 16,
   "outputs": [
    {
     "data": {
      "text/plain": "Indie                   18465\nAction                  11443\nAdventure               10187\nCasual                   9470\nStrategy                 5648\nRPG                      5049\nSimulation               5042\nFreetoPlay               2973\nEarlyAccess              2456\nSports                   1146\nMassivelyMultiplayer      991\nRacing                    961\nUtilities                 301\nDesign&Illustration       198\nAnimation&Modeling        175\nEducation                 128\nVideoProduction           111\nAudioProduction            85\nSoftwareTraining           70\nGameDevelopment            51\nWebPublishing              47\nPhotoEditing               46\nViolent                    41\nGore                       34\nSexualContent              18\nNudity                     15\nAccounting                  6\nMovie                       1\ndtype: int64"
     },
     "execution_count": 16,
     "metadata": {},
     "output_type": "execute_result"
    }
   ],
   "source": [
    "genretots = genredb.sum()\n",
    "genretots.pop('id')\n",
    "genretots.pop('appid')\n",
    "genretots.sort_values(ascending=False)"
   ],
   "metadata": {
    "collapsed": false,
    "pycharm": {
     "name": "#%%\n"
    }
   }
  },
  {
   "cell_type": "code",
   "execution_count": 17,
   "outputs": [
    {
     "data": {
      "text/plain": "English                26653\nGerman                  8151\nFrench                  7777\nRussian                 7142\nSpanishSpain            7121\nSimplifiedChinese       6267\nItalian                 5614\nJapanese                5301\nPortugueseBrazil        3553\nKorean                  3286\nPolish                  3186\nTraditionalChinese      3085\nPortuguese              2003\nTurkish                 1811\nDutch                   1656\nCzech                   1308\nSwedish                 1034\nHungarian               1007\nUkrainian                948\nSpanishLatinAmerica      935\nDanish                   849\nArabic                   798\nNorwegian                771\nFinnish                  768\nThai                     756\nGreek                    673\nRomanian                 671\nBulgarian                547\nVietnamese               367\nSlovakian                  2\nSpanish                    2\ndtype: int64"
     },
     "execution_count": 17,
     "metadata": {},
     "output_type": "execute_result"
    }
   ],
   "source": [
    "lingtots = lingdb.sum()\n",
    "lingtots.pop('id')\n",
    "lingtots.pop('appid')\n",
    "lingtots.sort_values(ascending=False)"
   ],
   "metadata": {
    "collapsed": false,
    "pycharm": {
     "name": "#%%\n"
    }
   }
  },
  {
   "cell_type": "code",
   "execution_count": 18,
   "outputs": [
    {
     "data": {
      "text/plain": "Action          1349979\nIndie           1172614\nAdventure       1066375\nSingleplayer     874724\nMultiplayer      795274\n                 ...   \nHardware            285\nRockMusic           226\nSnowboarding        223\nElectronic           82\nMasterpiece          23\nLength: 425, dtype: int64"
     },
     "execution_count": 18,
     "metadata": {},
     "output_type": "execute_result"
    }
   ],
   "source": [
    "tagtots = tagdb.sum()\n",
    "tagtots.pop('id')\n",
    "tagtots.pop('appid')\n",
    "tagtots.sort_values(ascending=False)"
   ],
   "metadata": {
    "collapsed": false,
    "pycharm": {
     "name": "#%%\n"
    }
   }
  },
  {
   "cell_type": "code",
   "source": [],
   "metadata": {
    "collapsed": false,
    "pycharm": {
     "name": "#%%\n"
    }
   },
   "execution_count": 18,
   "outputs": []
  },
  {
   "cell_type": "code",
   "execution_count": 19,
   "outputs": [],
   "source": [
    "## Cosine Similarity"
   ],
   "metadata": {
    "collapsed": false,
    "pycharm": {
     "name": "#%%\n"
    }
   }
  },
  {
   "cell_type": "code",
   "execution_count": 20,
   "outputs": [],
   "source": [
    "from sklearn.preprocessing import Normalizer\n",
    "from sklearn.metrics.pairwise import cosine_similarity"
   ],
   "metadata": {
    "collapsed": false,
    "pycharm": {
     "name": "#%%\n"
    }
   }
  },
  {
   "cell_type": "code",
   "execution_count": 21,
   "outputs": [],
   "source": [
    "tagdb = tagdb.set_index('appid')\n",
    "tagdb = tagdb.drop('id', axis=1)"
   ],
   "metadata": {
    "collapsed": false,
    "pycharm": {
     "name": "#%%\n"
    }
   }
  },
  {
   "cell_type": "code",
   "execution_count": 22,
   "outputs": [],
   "source": [
    "tagdbnorm = Normalizer(norm='l1').fit_transform(tagdb)"
   ],
   "metadata": {
    "collapsed": false,
    "pycharm": {
     "name": "#%%\n"
    }
   }
  },
  {
   "cell_type": "code",
   "execution_count": 23,
   "outputs": [],
   "source": [
    "tagsimdb = cosine_similarity(tagdbnorm)"
   ],
   "metadata": {
    "collapsed": false,
    "pycharm": {
     "name": "#%%\n"
    }
   }
  },
  {
   "cell_type": "code",
   "execution_count": 24,
   "outputs": [],
   "source": [
    "tagsimdb = pd.DataFrame(tagsimdb, index=tagdb.index, columns=tagdb.index)"
   ],
   "metadata": {
    "collapsed": false,
    "pycharm": {
     "name": "#%%\n"
    }
   }
  },
  {
   "cell_type": "code",
   "execution_count": 25,
   "outputs": [],
   "source": [
    "gamesdb = gamesdb.set_index('appid')"
   ],
   "metadata": {
    "collapsed": false,
    "pycharm": {
     "name": "#%%\n"
    }
   }
  },
  {
   "cell_type": "code",
   "execution_count": 26,
   "outputs": [
    {
     "data": {
      "text/plain": "1145360"
     },
     "execution_count": 26,
     "metadata": {},
     "output_type": "execute_result"
    }
   ],
   "source": [
    "hadesid = gamesdb[gamesdb['name'] == 'Hades'].index[0]\n",
    "hadesid"
   ],
   "metadata": {
    "collapsed": false,
    "pycharm": {
     "name": "#%%\n"
    }
   }
  },
  {
   "cell_type": "code",
   "execution_count": 27,
   "outputs": [
    {
     "data": {
      "text/plain": "(26927, 425)"
     },
     "execution_count": 27,
     "metadata": {},
     "output_type": "execute_result"
    }
   ],
   "source": [
    "tagdb.shape"
   ],
   "metadata": {
    "collapsed": false,
    "pycharm": {
     "name": "#%%\n"
    }
   }
  },
  {
   "cell_type": "code",
   "execution_count": 28,
   "outputs": [],
   "source": [
    "def get_closest_game(name):\n",
    "    try:\n",
    "        gameid = gamesdb[gamesdb['name'] == name].index[0]\n",
    "    except IndexError:\n",
    "        raise IndexError('That name {name} is not in the list.')\n",
    "\n",
    "\n",
    "\n",
    "    return tagsimdb[gameid].sort_values(ascending=False).index[1]\n",
    "\n",
    "def get_best_nearby_game(name, size=1):\n",
    "    try:\n",
    "        gameid = gamesdb[gamesdb['name'] == name].index[0]\n",
    "    except IndexError:\n",
    "        raise IndexError('That name {name} is not in the list.')\n",
    "\n",
    "    target_games = tagsimdb[gameid].index\n",
    "    comboscores = (gamesdb.loc[target_games]['userscore'] + tagsimdb[gameid]) / 2\n",
    "\n",
    "    return comboscores.sort_values(ascending=False).index[1:size+1]"
   ],
   "metadata": {
    "collapsed": false,
    "pycharm": {
     "name": "#%%\n"
    }
   }
  },
  {
   "cell_type": "code",
   "execution_count": 29,
   "outputs": [],
   "source": [
    "# my_top_games = ['XCOM 2', 'Stellaris', 'The Witcher 3: Wild Hunt', 'Darkest Dungeon', 'Fallout 4', 'Enter the Gungeon', 'Outer Wilds']\n",
    "# closest_games = [get_closest_game(name) for name in my_top_games]\n",
    "# gamesdb.loc[closest_games]\n",
    "#"
   ],
   "metadata": {
    "collapsed": false,
    "pycharm": {
     "name": "#%%\n"
    }
   }
  },
  {
   "cell_type": "code",
   "execution_count": 30,
   "outputs": [],
   "source": [
    "# my_top_games = ['XCOM 2', 'Stellaris', 'The Witcher 3: Wild Hunt', 'Darkest Dungeon', 'Fallout 4', 'Enter the Gungeon', 'Outer Wilds']\n",
    "# closest_games = [get_best_nearby_game(name) for name in my_top_games]\n",
    "# gamesdb.loc[closest_games]"
   ],
   "metadata": {
    "collapsed": false,
    "pycharm": {
     "name": "#%%\n"
    }
   }
  },
  {
   "cell_type": "code",
   "execution_count": 31,
   "outputs": [
    {
     "data": {
      "text/plain": "           id                      name  \\\nappid                                     \n203160    249               Tomb Raider   \n108710    230                 Alan Wake   \n391220    672   Rise of the Tomb Raider   \n752590    899  A Plague Tale: Innocence   \n7000     1030       Tomb Raider: Legend   \n546560    798           Half-Life: Alyx   \n57400   12021       Batman: Arkham City   \n15130    2048      Beyond Good and Evil   \n601430   1756         The Evil Within 2   \n47780     186              Dead Space 2   \n\n                                                developer  \\\nappid                                                       \n203160  Crystal Dynamics, Eidos-Montréal, Feral Intera...   \n108710                               Remedy Entertainment   \n391220  Crystal Dynamics, Eidos-Montréal, Feral Intera...   \n752590                                       Asobo Studio   \n7000                                     Crystal Dynamics   \n546560                                              Valve   \n57400                                  Rocksteady Studios   \n15130                                             Ubisoft   \n601430                                    Tango Gameworks   \n47780                                      Visceral Games   \n\n                                                publisher score_rank  \\\nappid                                                                  \n203160  Square Enix, Feral Interactive (Mac), Feral In...              \n108710                               Remedy Entertainment              \n391220  Square Enix, Feral Interactive (Mac), Feral In...              \n752590                             Focus Home Interactive              \n7000                                          Square Enix              \n546560                                              Valve              \n57400              Warner Bros. Interactive Entertainment              \n15130                                             Ubisoft              \n601430                                 Bethesda Softworks              \n47780                                     Electronic Arts              \n\n        positive  negative  userscore                   owners  \\\nappid                                                            \n203160    176637      6816   0.961971  5,000,000 .. 10,000,000   \n108710     30220      2930   0.908510   2,000,000 .. 5,000,000   \n391220     87006      5692   0.937033   2,000,000 .. 5,000,000   \n752590     29410      1850   0.938149     500,000 .. 1,000,000   \n7000        2709       359   0.871130     500,000 .. 1,000,000   \n546560     52197       716   0.985448   2,000,000 .. 5,000,000   \n57400       1903        21   0.983371         20,000 .. 50,000   \n15130       2234       292   0.871345       200,000 .. 500,000   \n601430     15749      1299   0.919725     500,000 .. 1,000,000   \n47780      13577       853   0.936921   1,000,000 .. 2,000,000   \n\n        average_forever  average_2weeks  median_forever  median_2weeks price  \\\nappid                                                                          \n203160              622             167             508            151  1499   \n108710              346               0             165              0  1499   \n391220             1100              89             692            154   999   \n752590              684             907             756            907  4499   \n7000                167               0             190              0   699   \n546560             1069             127             660            126   999   \n57400               752               0            1018              0  1999   \n15130               239               0             329              0   999   \n601430              587              21             533             21  3999   \n47780               668              11             366             11  1999   \n\n       initialprice discount   ccu  \nappid                               \n203160         1499        0  1464  \n108710         1499        0   136  \n391220          999        0  1760  \n752590         4499        0   218  \n7000            699        0    53  \n546560          999        0   787  \n57400          1999        0     0  \n15130           999        0    11  \n601430         3999        0   367  \n47780          1999        0    95  ",
      "text/html": "<div>\n<style scoped>\n    .dataframe tbody tr th:only-of-type {\n        vertical-align: middle;\n    }\n\n    .dataframe tbody tr th {\n        vertical-align: top;\n    }\n\n    .dataframe thead th {\n        text-align: right;\n    }\n</style>\n<table border=\"1\" class=\"dataframe\">\n  <thead>\n    <tr style=\"text-align: right;\">\n      <th></th>\n      <th>id</th>\n      <th>name</th>\n      <th>developer</th>\n      <th>publisher</th>\n      <th>score_rank</th>\n      <th>positive</th>\n      <th>negative</th>\n      <th>userscore</th>\n      <th>owners</th>\n      <th>average_forever</th>\n      <th>average_2weeks</th>\n      <th>median_forever</th>\n      <th>median_2weeks</th>\n      <th>price</th>\n      <th>initialprice</th>\n      <th>discount</th>\n      <th>ccu</th>\n    </tr>\n    <tr>\n      <th>appid</th>\n      <th></th>\n      <th></th>\n      <th></th>\n      <th></th>\n      <th></th>\n      <th></th>\n      <th></th>\n      <th></th>\n      <th></th>\n      <th></th>\n      <th></th>\n      <th></th>\n      <th></th>\n      <th></th>\n      <th></th>\n      <th></th>\n      <th></th>\n    </tr>\n  </thead>\n  <tbody>\n    <tr>\n      <th>203160</th>\n      <td>249</td>\n      <td>Tomb Raider</td>\n      <td>Crystal Dynamics, Eidos-Montréal, Feral Intera...</td>\n      <td>Square Enix, Feral Interactive (Mac), Feral In...</td>\n      <td></td>\n      <td>176637</td>\n      <td>6816</td>\n      <td>0.961971</td>\n      <td>5,000,000 .. 10,000,000</td>\n      <td>622</td>\n      <td>167</td>\n      <td>508</td>\n      <td>151</td>\n      <td>1499</td>\n      <td>1499</td>\n      <td>0</td>\n      <td>1464</td>\n    </tr>\n    <tr>\n      <th>108710</th>\n      <td>230</td>\n      <td>Alan Wake</td>\n      <td>Remedy Entertainment</td>\n      <td>Remedy Entertainment</td>\n      <td></td>\n      <td>30220</td>\n      <td>2930</td>\n      <td>0.908510</td>\n      <td>2,000,000 .. 5,000,000</td>\n      <td>346</td>\n      <td>0</td>\n      <td>165</td>\n      <td>0</td>\n      <td>1499</td>\n      <td>1499</td>\n      <td>0</td>\n      <td>136</td>\n    </tr>\n    <tr>\n      <th>391220</th>\n      <td>672</td>\n      <td>Rise of the Tomb Raider</td>\n      <td>Crystal Dynamics, Eidos-Montréal, Feral Intera...</td>\n      <td>Square Enix, Feral Interactive (Mac), Feral In...</td>\n      <td></td>\n      <td>87006</td>\n      <td>5692</td>\n      <td>0.937033</td>\n      <td>2,000,000 .. 5,000,000</td>\n      <td>1100</td>\n      <td>89</td>\n      <td>692</td>\n      <td>154</td>\n      <td>999</td>\n      <td>999</td>\n      <td>0</td>\n      <td>1760</td>\n    </tr>\n    <tr>\n      <th>752590</th>\n      <td>899</td>\n      <td>A Plague Tale: Innocence</td>\n      <td>Asobo Studio</td>\n      <td>Focus Home Interactive</td>\n      <td></td>\n      <td>29410</td>\n      <td>1850</td>\n      <td>0.938149</td>\n      <td>500,000 .. 1,000,000</td>\n      <td>684</td>\n      <td>907</td>\n      <td>756</td>\n      <td>907</td>\n      <td>4499</td>\n      <td>4499</td>\n      <td>0</td>\n      <td>218</td>\n    </tr>\n    <tr>\n      <th>7000</th>\n      <td>1030</td>\n      <td>Tomb Raider: Legend</td>\n      <td>Crystal Dynamics</td>\n      <td>Square Enix</td>\n      <td></td>\n      <td>2709</td>\n      <td>359</td>\n      <td>0.871130</td>\n      <td>500,000 .. 1,000,000</td>\n      <td>167</td>\n      <td>0</td>\n      <td>190</td>\n      <td>0</td>\n      <td>699</td>\n      <td>699</td>\n      <td>0</td>\n      <td>53</td>\n    </tr>\n    <tr>\n      <th>546560</th>\n      <td>798</td>\n      <td>Half-Life: Alyx</td>\n      <td>Valve</td>\n      <td>Valve</td>\n      <td></td>\n      <td>52197</td>\n      <td>716</td>\n      <td>0.985448</td>\n      <td>2,000,000 .. 5,000,000</td>\n      <td>1069</td>\n      <td>127</td>\n      <td>660</td>\n      <td>126</td>\n      <td>999</td>\n      <td>999</td>\n      <td>0</td>\n      <td>787</td>\n    </tr>\n    <tr>\n      <th>57400</th>\n      <td>12021</td>\n      <td>Batman: Arkham City</td>\n      <td>Rocksteady Studios</td>\n      <td>Warner Bros. Interactive Entertainment</td>\n      <td></td>\n      <td>1903</td>\n      <td>21</td>\n      <td>0.983371</td>\n      <td>20,000 .. 50,000</td>\n      <td>752</td>\n      <td>0</td>\n      <td>1018</td>\n      <td>0</td>\n      <td>1999</td>\n      <td>1999</td>\n      <td>0</td>\n      <td>0</td>\n    </tr>\n    <tr>\n      <th>15130</th>\n      <td>2048</td>\n      <td>Beyond Good and Evil</td>\n      <td>Ubisoft</td>\n      <td>Ubisoft</td>\n      <td></td>\n      <td>2234</td>\n      <td>292</td>\n      <td>0.871345</td>\n      <td>200,000 .. 500,000</td>\n      <td>239</td>\n      <td>0</td>\n      <td>329</td>\n      <td>0</td>\n      <td>999</td>\n      <td>999</td>\n      <td>0</td>\n      <td>11</td>\n    </tr>\n    <tr>\n      <th>601430</th>\n      <td>1756</td>\n      <td>The Evil Within 2</td>\n      <td>Tango Gameworks</td>\n      <td>Bethesda Softworks</td>\n      <td></td>\n      <td>15749</td>\n      <td>1299</td>\n      <td>0.919725</td>\n      <td>500,000 .. 1,000,000</td>\n      <td>587</td>\n      <td>21</td>\n      <td>533</td>\n      <td>21</td>\n      <td>3999</td>\n      <td>3999</td>\n      <td>0</td>\n      <td>367</td>\n    </tr>\n    <tr>\n      <th>47780</th>\n      <td>186</td>\n      <td>Dead Space 2</td>\n      <td>Visceral Games</td>\n      <td>Electronic Arts</td>\n      <td></td>\n      <td>13577</td>\n      <td>853</td>\n      <td>0.936921</td>\n      <td>1,000,000 .. 2,000,000</td>\n      <td>668</td>\n      <td>11</td>\n      <td>366</td>\n      <td>11</td>\n      <td>1999</td>\n      <td>1999</td>\n      <td>0</td>\n      <td>95</td>\n    </tr>\n  </tbody>\n</table>\n</div>"
     },
     "execution_count": 31,
     "metadata": {},
     "output_type": "execute_result"
    }
   ],
   "source": [
    "gamesdb.loc[get_best_nearby_game('Control Ultimate Edition', size=10)]"
   ],
   "metadata": {
    "collapsed": false,
    "pycharm": {
     "name": "#%%\n"
    }
   }
  },
  {
   "cell_type": "code",
   "execution_count": 32,
   "outputs": [],
   "source": [
    "kmean = KMeans(n_clusters=14, random_state=0).fit(tagdbnorm)"
   ],
   "metadata": {
    "collapsed": false,
    "pycharm": {
     "name": "#%%\n"
    }
   }
  },
  {
   "cell_type": "code",
   "execution_count": 33,
   "outputs": [],
   "source": [
    "groups = kmean.predict(tagdbnorm)\n",
    "groups = pd.Series(groups)\n",
    "\n",
    "\n",
    "dists = kmean.transform(tagdbnorm)\n",
    "dists = pd.DataFrame(dists)"
   ],
   "metadata": {
    "collapsed": false,
    "pycharm": {
     "name": "#%%\n"
    }
   }
  },
  {
   "cell_type": "code",
   "execution_count": 34,
   "outputs": [
    {
     "data": {
      "text/plain": "11     228\n7      448\n3      473\n12     514\n13     663\n10     752\n0     1484\n6     1497\n2     1581\n4     1894\n1     2019\n9     2094\n5     4042\n8     9238\ndtype: int64"
     },
     "execution_count": 34,
     "metadata": {},
     "output_type": "execute_result"
    }
   ],
   "source": [
    "groups.groupby(groups).count().sort_values()"
   ],
   "metadata": {
    "collapsed": false,
    "pycharm": {
     "name": "#%%\n"
    }
   }
  },
  {
   "cell_type": "code",
   "execution_count": 35,
   "outputs": [],
   "source": [
    "groups.index = tagdb.index\n",
    "dists.index = tagdb.index"
   ],
   "metadata": {
    "collapsed": false,
    "pycharm": {
     "name": "#%%\n"
    }
   }
  },
  {
   "cell_type": "code",
   "execution_count": 36,
   "outputs": [],
   "source": [
    "gamesdb['cluster'] = groups"
   ],
   "metadata": {
    "collapsed": false,
    "pycharm": {
     "name": "#%%\n"
    }
   }
  },
  {
   "cell_type": "code",
   "execution_count": 37,
   "outputs": [
    {
     "data": {
      "text/plain": "Index(['Adventure', 'Casual', 'Point&Click', 'HiddenObject', 'VR', 'Puzzle',\n       'Action', 'VisualNovel', 'Simulation', 'FemaleProtagonist',\n       ...\n       'TurnBased', 'Tactical', 'ProceduralGeneration', 'BulletHell',\n       '4PlayerLocal', 'TopDown', 'TurnBasedStrategy', 'RTS', 'Sandbox',\n       'Utilities'],\n      dtype='object', length=425)"
     },
     "execution_count": 37,
     "metadata": {},
     "output_type": "execute_result"
    }
   ],
   "source": [
    "tagdb.columns[np.argsort(kmean.cluster_centers_[13])[::-1]]"
   ],
   "metadata": {
    "collapsed": false,
    "pycharm": {
     "name": "#%%\n"
    }
   }
  },
  {
   "cell_type": "code",
   "execution_count": 38,
   "outputs": [
    {
     "data": {
      "text/plain": "           id                            name             developer  \\\nappid                                                                 \n278360    480          A Story About My Uncle      Gone North Games   \n439190    726  Stories: The Path of Destinies       Spearhead Games   \n560740  10512            Shtriga: Summer Camp           Game Cartel   \n415840   4467                     Mystic Saga         FIVE-BN GAMES   \n15700      95         Oddworld: Abe's Oddysee  Oddworld Inhabitants   \n\n                      publisher score_rank  positive  negative  userscore  \\\nappid                                                                       \n278360  Coffee Stain Publishing                24507      2146   0.916156   \n439190          Spearhead Games                 5228       708   0.872236   \n560740     Alawar Entertainment                   62        22   0.635151   \n415840                   8Floor                  111        76   0.521989   \n15700      Oddworld Inhabitants                 3194       524   0.847509   \n\n                         owners  average_forever  average_2weeks  \\\nappid                                                              \n278360  5,000,000 .. 10,000,000              809             127   \n439190   2,000,000 .. 5,000,000              411               0   \n560740         20,000 .. 50,000              355               0   \n415840       100,000 .. 200,000              338               0   \n15700   5,000,000 .. 10,000,000              328              92   \n\n        median_forever  median_2weeks price initialprice discount  ccu  \\\nappid                                                                    \n278360             235            127  1499         1499        0   31   \n439190             314              0  1499         1499        0   12   \n560740             564              0   399          399        0    0   \n415840             346              0   499          499        0    0   \n15700              223             92   299          299        0   20   \n\n        cluster  \nappid            \n278360       13  \n439190       13  \n560740       13  \n415840       13  \n15700        13  ",
      "text/html": "<div>\n<style scoped>\n    .dataframe tbody tr th:only-of-type {\n        vertical-align: middle;\n    }\n\n    .dataframe tbody tr th {\n        vertical-align: top;\n    }\n\n    .dataframe thead th {\n        text-align: right;\n    }\n</style>\n<table border=\"1\" class=\"dataframe\">\n  <thead>\n    <tr style=\"text-align: right;\">\n      <th></th>\n      <th>id</th>\n      <th>name</th>\n      <th>developer</th>\n      <th>publisher</th>\n      <th>score_rank</th>\n      <th>positive</th>\n      <th>negative</th>\n      <th>userscore</th>\n      <th>owners</th>\n      <th>average_forever</th>\n      <th>average_2weeks</th>\n      <th>median_forever</th>\n      <th>median_2weeks</th>\n      <th>price</th>\n      <th>initialprice</th>\n      <th>discount</th>\n      <th>ccu</th>\n      <th>cluster</th>\n    </tr>\n    <tr>\n      <th>appid</th>\n      <th></th>\n      <th></th>\n      <th></th>\n      <th></th>\n      <th></th>\n      <th></th>\n      <th></th>\n      <th></th>\n      <th></th>\n      <th></th>\n      <th></th>\n      <th></th>\n      <th></th>\n      <th></th>\n      <th></th>\n      <th></th>\n      <th></th>\n      <th></th>\n    </tr>\n  </thead>\n  <tbody>\n    <tr>\n      <th>278360</th>\n      <td>480</td>\n      <td>A Story About My Uncle</td>\n      <td>Gone North Games</td>\n      <td>Coffee Stain Publishing</td>\n      <td></td>\n      <td>24507</td>\n      <td>2146</td>\n      <td>0.916156</td>\n      <td>5,000,000 .. 10,000,000</td>\n      <td>809</td>\n      <td>127</td>\n      <td>235</td>\n      <td>127</td>\n      <td>1499</td>\n      <td>1499</td>\n      <td>0</td>\n      <td>31</td>\n      <td>13</td>\n    </tr>\n    <tr>\n      <th>439190</th>\n      <td>726</td>\n      <td>Stories: The Path of Destinies</td>\n      <td>Spearhead Games</td>\n      <td>Spearhead Games</td>\n      <td></td>\n      <td>5228</td>\n      <td>708</td>\n      <td>0.872236</td>\n      <td>2,000,000 .. 5,000,000</td>\n      <td>411</td>\n      <td>0</td>\n      <td>314</td>\n      <td>0</td>\n      <td>1499</td>\n      <td>1499</td>\n      <td>0</td>\n      <td>12</td>\n      <td>13</td>\n    </tr>\n    <tr>\n      <th>560740</th>\n      <td>10512</td>\n      <td>Shtriga: Summer Camp</td>\n      <td>Game Cartel</td>\n      <td>Alawar Entertainment</td>\n      <td></td>\n      <td>62</td>\n      <td>22</td>\n      <td>0.635151</td>\n      <td>20,000 .. 50,000</td>\n      <td>355</td>\n      <td>0</td>\n      <td>564</td>\n      <td>0</td>\n      <td>399</td>\n      <td>399</td>\n      <td>0</td>\n      <td>0</td>\n      <td>13</td>\n    </tr>\n    <tr>\n      <th>415840</th>\n      <td>4467</td>\n      <td>Mystic Saga</td>\n      <td>FIVE-BN GAMES</td>\n      <td>8Floor</td>\n      <td></td>\n      <td>111</td>\n      <td>76</td>\n      <td>0.521989</td>\n      <td>100,000 .. 200,000</td>\n      <td>338</td>\n      <td>0</td>\n      <td>346</td>\n      <td>0</td>\n      <td>499</td>\n      <td>499</td>\n      <td>0</td>\n      <td>0</td>\n      <td>13</td>\n    </tr>\n    <tr>\n      <th>15700</th>\n      <td>95</td>\n      <td>Oddworld: Abe's Oddysee</td>\n      <td>Oddworld Inhabitants</td>\n      <td>Oddworld Inhabitants</td>\n      <td></td>\n      <td>3194</td>\n      <td>524</td>\n      <td>0.847509</td>\n      <td>5,000,000 .. 10,000,000</td>\n      <td>328</td>\n      <td>92</td>\n      <td>223</td>\n      <td>92</td>\n      <td>299</td>\n      <td>299</td>\n      <td>0</td>\n      <td>20</td>\n      <td>13</td>\n    </tr>\n  </tbody>\n</table>\n</div>"
     },
     "execution_count": 38,
     "metadata": {},
     "output_type": "execute_result"
    }
   ],
   "source": [
    "gamesdb.loc[tagdb.index[np.argsort(dists.values, axis=0)[:, 13][:100]]].sort_values('average_forever', ascending=0).head()"
   ],
   "metadata": {
    "collapsed": false,
    "pycharm": {
     "name": "#%%\n"
    }
   }
  },
  {
   "cell_type": "markdown",
   "source": [
    "From my investigating, I'm labeling these clusters:\n",
    "\n",
    "|Number|Label|\n",
    "|---|---|\n",
    "|0|Action Simulation|\n",
    "|1|Adventure Rpgs with Indie/Anime vibes (JRPGS)?|\n",
    "|2|Casual Puzzle-Adventures|\n",
    "|3|Honestly no clue, top responses are \"Indie\" \"Puzzle\" \"Platformer\" \"Adventure\" \"Horror\" \"Casual\"|\n",
    "|4|Free-To-Play Shovelware|\n",
    "|5|Violent Shovelware|\n",
    "|6|Logic/Classical Casual|\n",
    "|7|Casual|\n",
    "|8|Strategy Simulation|\n",
    "|9|Adventure Shovelware|\n",
    "|10|Tactics|\n",
    "|11|Software|\n",
    "|12|Action PvP|\n",
    "|13|Skill-Based Adventure|\n",
    "\n",
    "Note: Pretty much all of these categories contain a little action, a little adventure, and a little Indie.\n",
    "Maybe I should try weighting by review-count?"
   ],
   "metadata": {
    "collapsed": false,
    "pycharm": {
     "name": "#%% md\n"
    }
   }
  },
  {
   "cell_type": "code",
   "execution_count": 39,
   "outputs": [],
   "source": [
    "def upper_bound(s):\n",
    "    afterdots = s.split(' .. ')[1].replace(',', '')\n",
    "    return int(afterdots)"
   ],
   "metadata": {
    "collapsed": false,
    "pycharm": {
     "name": "#%%\n"
    }
   }
  },
  {
   "cell_type": "code",
   "execution_count": 40,
   "outputs": [],
   "source": [
    "gamesdb['owners_upper'] = gamesdb.owners.apply(upper_bound)"
   ],
   "metadata": {
    "collapsed": false,
    "pycharm": {
     "name": "#%%\n"
    }
   }
  },
  {
   "cell_type": "code",
   "execution_count": 41,
   "outputs": [],
   "source": [
    "# xs = []\n",
    "# ins = []\n",
    "# for k in tqdm(range(1, 25)):\n",
    "#     kmean = KMeans(n_clusters=k, random_state=0).fit(tagdbnorm, sample_weight=gamesdb.owners_upper)\n",
    "#     avmindist = np.mean(np.min(kmean.transform(tagdbnorm), axis=1))\n",
    "#     xs.append(avmindist)\n",
    "#     ins.append(kmean.inertia_)\n",
    "# plt.plot(xs)"
   ],
   "metadata": {
    "collapsed": false,
    "pycharm": {
     "name": "#%%\n"
    }
   }
  },
  {
   "cell_type": "code",
   "execution_count": 42,
   "outputs": [],
   "source": [
    "# plt.plot(ins)"
   ],
   "metadata": {
    "collapsed": false,
    "pycharm": {
     "name": "#%%\n"
    }
   }
  },
  {
   "cell_type": "code",
   "execution_count": 43,
   "outputs": [],
   "source": [
    "kmean = KMeans(n_clusters=7, random_state=0).fit(tagdbnorm, sample_weight=gamesdb.owners_upper)"
   ],
   "metadata": {
    "collapsed": false,
    "pycharm": {
     "name": "#%%\n"
    }
   }
  },
  {
   "cell_type": "code",
   "execution_count": 44,
   "outputs": [
    {
     "data": {
      "text/plain": "array([0.18761127, 0.21842308, 0.28766279, ..., 0.22283463, 0.24054416,\n       0.21592853])"
     },
     "execution_count": 44,
     "metadata": {},
     "output_type": "execute_result"
    }
   ],
   "source": [
    "np.min(kmean.transform(tagdbnorm), axis=1)"
   ],
   "metadata": {
    "collapsed": false,
    "pycharm": {
     "name": "#%%\n"
    }
   }
  },
  {
   "cell_type": "code",
   "execution_count": 45,
   "outputs": [],
   "source": [
    "groups = kmean.predict(tagdbnorm)\n",
    "groups = pd.Series(groups)\n",
    "\n",
    "\n",
    "dists = kmean.transform(tagdbnorm)\n",
    "dists = pd.DataFrame(dists)"
   ],
   "metadata": {
    "collapsed": false,
    "pycharm": {
     "name": "#%%\n"
    }
   }
  },
  {
   "cell_type": "code",
   "execution_count": 46,
   "outputs": [
    {
     "data": {
      "text/plain": "1      937\n5     1161\n6     1872\n3     2714\n0     3010\n4     4963\n2    12270\ndtype: int64"
     },
     "execution_count": 46,
     "metadata": {},
     "output_type": "execute_result"
    }
   ],
   "source": [
    "groups.groupby(groups).count().sort_values()"
   ],
   "metadata": {
    "collapsed": false,
    "pycharm": {
     "name": "#%%\n"
    }
   }
  },
  {
   "cell_type": "code",
   "execution_count": 47,
   "outputs": [],
   "source": [
    "groups.index = tagdb.index\n",
    "dists.index = tagdb.index\n",
    "\n",
    "\n",
    "gamesdb['cluster'] = groups"
   ],
   "metadata": {
    "collapsed": false,
    "pycharm": {
     "name": "#%%\n"
    }
   }
  },
  {
   "cell_type": "code",
   "execution_count": 48,
   "outputs": [
    {
     "data": {
      "text/plain": "Index(['FreetoPlay', 'Multiplayer', 'Action', 'MassivelyMultiplayer',\n       'Strategy', 'Shooter', 'HeroShooter', 'Coop', 'FPS', 'Indie',\n       ...\n       'Bikes', 'Collectathon', 'Sequel', 'WordGame', '360Video', 'Gothic',\n       'TraditionalRoguelike', 'Trains', 'ImmersiveSim', 'TimeManagement'],\n      dtype='object', length=425)"
     },
     "execution_count": 48,
     "metadata": {},
     "output_type": "execute_result"
    }
   ],
   "source": [
    "tagdb.columns[np.argsort(kmean.cluster_centers_[6])[::-1]]"
   ],
   "metadata": {
    "collapsed": false,
    "pycharm": {
     "name": "#%%\n"
    }
   }
  },
  {
   "cell_type": "code",
   "execution_count": 49,
   "outputs": [
    {
     "data": {
      "text/plain": "         id                        name  \\\nappid                                     \n312990  562             The Expendabros   \n714010  886                     Aim Lab   \n563560  811  Alien Swarm: Reactive Drop   \n365300  628  Transmissions: Element 120   \n317360  566     Double Action: Boogaloo   \n\n                                         developer              publisher  \\\nappid                                                                       \n312990                                  Free Lives       Devolver Digital   \n714010                                  Statespace             Statespace   \n563560                          Reactive Drop Team     Reactive Drop Team   \n365300  Shokunin, Thomas M. Visser, Vincent Thiele         Self Published   \n317360                       Double Action Factory  Double Action Factory   \n\n       score_rank  positive  negative  userscore                  owners  \\\nappid                                                                      \n312990                16319       475   0.969099  2,000,000 .. 5,000,000   \n714010                26467      1329   0.949616  1,000,000 .. 2,000,000   \n563560                12757       713   0.943157  2,000,000 .. 5,000,000   \n365300                 8500       532   0.936053    500,000 .. 1,000,000   \n317360                 9997       798   0.920988  2,000,000 .. 5,000,000   \n\n        average_forever  average_2weeks  median_forever  median_2weeks price  \\\nappid                                                                          \n312990              171               0              76              0     0   \n714010              292             136              53             22     0   \n563560              176               0              64              0     0   \n365300               49              40              45             40     0   \n317360              146               0              77              0     0   \n\n       initialprice discount   ccu  cluster  owners_upper  \nappid                                                      \n312990            0        0    37        6       5000000  \n714010            0        0  7119        6       2000000  \n563560            0        0   381        6       5000000  \n365300            0        0     7        6       1000000  \n317360            0        0    21        6       5000000  ",
      "text/html": "<div>\n<style scoped>\n    .dataframe tbody tr th:only-of-type {\n        vertical-align: middle;\n    }\n\n    .dataframe tbody tr th {\n        vertical-align: top;\n    }\n\n    .dataframe thead th {\n        text-align: right;\n    }\n</style>\n<table border=\"1\" class=\"dataframe\">\n  <thead>\n    <tr style=\"text-align: right;\">\n      <th></th>\n      <th>id</th>\n      <th>name</th>\n      <th>developer</th>\n      <th>publisher</th>\n      <th>score_rank</th>\n      <th>positive</th>\n      <th>negative</th>\n      <th>userscore</th>\n      <th>owners</th>\n      <th>average_forever</th>\n      <th>average_2weeks</th>\n      <th>median_forever</th>\n      <th>median_2weeks</th>\n      <th>price</th>\n      <th>initialprice</th>\n      <th>discount</th>\n      <th>ccu</th>\n      <th>cluster</th>\n      <th>owners_upper</th>\n    </tr>\n    <tr>\n      <th>appid</th>\n      <th></th>\n      <th></th>\n      <th></th>\n      <th></th>\n      <th></th>\n      <th></th>\n      <th></th>\n      <th></th>\n      <th></th>\n      <th></th>\n      <th></th>\n      <th></th>\n      <th></th>\n      <th></th>\n      <th></th>\n      <th></th>\n      <th></th>\n      <th></th>\n      <th></th>\n    </tr>\n  </thead>\n  <tbody>\n    <tr>\n      <th>312990</th>\n      <td>562</td>\n      <td>The Expendabros</td>\n      <td>Free Lives</td>\n      <td>Devolver Digital</td>\n      <td></td>\n      <td>16319</td>\n      <td>475</td>\n      <td>0.969099</td>\n      <td>2,000,000 .. 5,000,000</td>\n      <td>171</td>\n      <td>0</td>\n      <td>76</td>\n      <td>0</td>\n      <td>0</td>\n      <td>0</td>\n      <td>0</td>\n      <td>37</td>\n      <td>6</td>\n      <td>5000000</td>\n    </tr>\n    <tr>\n      <th>714010</th>\n      <td>886</td>\n      <td>Aim Lab</td>\n      <td>Statespace</td>\n      <td>Statespace</td>\n      <td></td>\n      <td>26467</td>\n      <td>1329</td>\n      <td>0.949616</td>\n      <td>1,000,000 .. 2,000,000</td>\n      <td>292</td>\n      <td>136</td>\n      <td>53</td>\n      <td>22</td>\n      <td>0</td>\n      <td>0</td>\n      <td>0</td>\n      <td>7119</td>\n      <td>6</td>\n      <td>2000000</td>\n    </tr>\n    <tr>\n      <th>563560</th>\n      <td>811</td>\n      <td>Alien Swarm: Reactive Drop</td>\n      <td>Reactive Drop Team</td>\n      <td>Reactive Drop Team</td>\n      <td></td>\n      <td>12757</td>\n      <td>713</td>\n      <td>0.943157</td>\n      <td>2,000,000 .. 5,000,000</td>\n      <td>176</td>\n      <td>0</td>\n      <td>64</td>\n      <td>0</td>\n      <td>0</td>\n      <td>0</td>\n      <td>0</td>\n      <td>381</td>\n      <td>6</td>\n      <td>5000000</td>\n    </tr>\n    <tr>\n      <th>365300</th>\n      <td>628</td>\n      <td>Transmissions: Element 120</td>\n      <td>Shokunin, Thomas M. Visser, Vincent Thiele</td>\n      <td>Self Published</td>\n      <td></td>\n      <td>8500</td>\n      <td>532</td>\n      <td>0.936053</td>\n      <td>500,000 .. 1,000,000</td>\n      <td>49</td>\n      <td>40</td>\n      <td>45</td>\n      <td>40</td>\n      <td>0</td>\n      <td>0</td>\n      <td>0</td>\n      <td>7</td>\n      <td>6</td>\n      <td>1000000</td>\n    </tr>\n    <tr>\n      <th>317360</th>\n      <td>566</td>\n      <td>Double Action: Boogaloo</td>\n      <td>Double Action Factory</td>\n      <td>Double Action Factory</td>\n      <td></td>\n      <td>9997</td>\n      <td>798</td>\n      <td>0.920988</td>\n      <td>2,000,000 .. 5,000,000</td>\n      <td>146</td>\n      <td>0</td>\n      <td>77</td>\n      <td>0</td>\n      <td>0</td>\n      <td>0</td>\n      <td>0</td>\n      <td>21</td>\n      <td>6</td>\n      <td>5000000</td>\n    </tr>\n  </tbody>\n</table>\n</div>"
     },
     "execution_count": 49,
     "metadata": {},
     "output_type": "execute_result"
    }
   ],
   "source": [
    "gamesdb.loc[tagdb.index[np.argsort(dists.values, axis=0)[:, 6][:100]]].sort_values('userscore', ascending=False).head()"
   ],
   "metadata": {
    "collapsed": false,
    "pycharm": {
     "name": "#%%\n"
    }
   }
  },
  {
   "cell_type": "markdown",
   "source": [
    "|Number|Label|\n",
    "|---|---|\n",
    "|0|Multiplayer Action 2D|\n",
    "|1|FPS Multiplayer|\n",
    "|2|Indie Adventure|\n",
    "|3|Tactics/Strategy|\n",
    "|4|Casual|\n",
    "|5|Indie/Anime Story-Driven|\n",
    "|6|Action Free-to-Play|"
   ],
   "metadata": {
    "collapsed": false,
    "pycharm": {
     "name": "#%% md\n"
    }
   }
  },
  {
   "cell_type": "code",
   "execution_count": 57,
   "outputs": [],
   "source": [
    "groups.groupby(groups).count().to_csv('cluster_size.txt', header=False, sep='\\t')\n"
   ],
   "metadata": {
    "collapsed": false,
    "pycharm": {
     "name": "#%%\n"
    }
   }
  },
  {
   "cell_type": "code",
   "execution_count": 69,
   "outputs": [],
   "source": [
    "import pickle\n",
    "with open('clusterdict.pkl', 'wb+') as f:\n",
    "    pickle.dump(gamesdb[['cluster']].to_dict(), f)"
   ],
   "metadata": {
    "collapsed": false,
    "pycharm": {
     "name": "#%%\n"
    }
   }
  },
  {
   "cell_type": "code",
   "execution_count": null,
   "outputs": [],
   "source": [],
   "metadata": {
    "collapsed": false,
    "pycharm": {
     "name": "#%%\n"
    }
   }
  }
 ]
}