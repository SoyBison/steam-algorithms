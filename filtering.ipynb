{
 "cells": [
  {
   "cell_type": "code",
   "execution_count": 1,
   "metadata": {
    "collapsed": true
   },
   "outputs": [],
   "source": [
    "import numpy as np\n",
    "import pandas as pd\n",
    "from sklearn.metrics.pairwise import cosine_similarity\n",
    "from sklearn.preprocessing import Normalizer\n",
    "import sqlite3\n",
    "from fuzzywuzzy import fuzz\n",
    "import time\n",
    "from tqdm import tqdm\n",
    "\n",
    "DB = sqlite3.connect('steamdata')"
   ]
  },
  {
   "cell_type": "code",
   "execution_count": 2,
   "outputs": [],
   "source": [
    "userdb = pd.read_csv('steam-200k.csv', header=None, names=['uid', 'name', 'action', 'playtime', '0'])"
   ],
   "metadata": {
    "collapsed": false,
    "pycharm": {
     "name": "#%%\n"
    }
   }
  },
  {
   "cell_type": "code",
   "execution_count": 3,
   "outputs": [],
   "source": [
    "gamesdb = pd.read_sql_query('SELECT * FROM app', DB)"
   ],
   "metadata": {
    "collapsed": false,
    "pycharm": {
     "name": "#%%\n"
    }
   }
  },
  {
   "cell_type": "code",
   "execution_count": 4,
   "outputs": [
    {
     "data": {
      "text/plain": "          id  appid   name developer        publisher score_rank  positive  \\\n100      101  17390  SPORE    Maxis™  Electronic Arts                29194   \n30095  30096  17390  SPORE    Maxis™  Electronic Arts                29213   \n\n       negative  userscore                  owners  average_forever  \\\n100        2870          0  1,000,000 .. 2,000,000             1362   \n30095      2871          0  1,000,000 .. 2,000,000             1322   \n\n       average_2weeks  median_forever  median_2weeks price initialprice  \\\n100               157             470            168  1999         1999   \n30095             183             473            217  1999         1999   \n\n      discount  ccu  \n100          0  871  \n30095        0  936  ",
      "text/html": "<div>\n<style scoped>\n    .dataframe tbody tr th:only-of-type {\n        vertical-align: middle;\n    }\n\n    .dataframe tbody tr th {\n        vertical-align: top;\n    }\n\n    .dataframe thead th {\n        text-align: right;\n    }\n</style>\n<table border=\"1\" class=\"dataframe\">\n  <thead>\n    <tr style=\"text-align: right;\">\n      <th></th>\n      <th>id</th>\n      <th>appid</th>\n      <th>name</th>\n      <th>developer</th>\n      <th>publisher</th>\n      <th>score_rank</th>\n      <th>positive</th>\n      <th>negative</th>\n      <th>userscore</th>\n      <th>owners</th>\n      <th>average_forever</th>\n      <th>average_2weeks</th>\n      <th>median_forever</th>\n      <th>median_2weeks</th>\n      <th>price</th>\n      <th>initialprice</th>\n      <th>discount</th>\n      <th>ccu</th>\n    </tr>\n  </thead>\n  <tbody>\n    <tr>\n      <th>100</th>\n      <td>101</td>\n      <td>17390</td>\n      <td>SPORE</td>\n      <td>Maxis™</td>\n      <td>Electronic Arts</td>\n      <td></td>\n      <td>29194</td>\n      <td>2870</td>\n      <td>0</td>\n      <td>1,000,000 .. 2,000,000</td>\n      <td>1362</td>\n      <td>157</td>\n      <td>470</td>\n      <td>168</td>\n      <td>1999</td>\n      <td>1999</td>\n      <td>0</td>\n      <td>871</td>\n    </tr>\n    <tr>\n      <th>30095</th>\n      <td>30096</td>\n      <td>17390</td>\n      <td>SPORE</td>\n      <td>Maxis™</td>\n      <td>Electronic Arts</td>\n      <td></td>\n      <td>29213</td>\n      <td>2871</td>\n      <td>0</td>\n      <td>1,000,000 .. 2,000,000</td>\n      <td>1322</td>\n      <td>183</td>\n      <td>473</td>\n      <td>217</td>\n      <td>1999</td>\n      <td>1999</td>\n      <td>0</td>\n      <td>936</td>\n    </tr>\n  </tbody>\n</table>\n</div>"
     },
     "execution_count": 4,
     "metadata": {},
     "output_type": "execute_result"
    }
   ],
   "source": [
    "gamesdb[gamesdb['name'].apply(lambda x: fuzz.ratio(x.lower(), 'Spore'.lower())) > 90]"
   ],
   "metadata": {
    "collapsed": false,
    "pycharm": {
     "name": "#%%\n"
    }
   }
  },
  {
   "cell_type": "code",
   "execution_count": 5,
   "outputs": [],
   "source": [
    "def fuzzy_search(name):\n",
    "    try:\n",
    "        return gamesdb.iloc[np.argmax(gamesdb['name'].apply(lambda x: fuzz.ratio(x.lower(), name.lower())))].appid\n",
    "    except IndexError:\n",
    "        return None"
   ],
   "metadata": {
    "collapsed": false,
    "pycharm": {
     "name": "#%%\n"
    }
   }
  },
  {
   "cell_type": "code",
   "execution_count": 6,
   "outputs": [
    {
     "data": {
      "text/plain": "383150"
     },
     "execution_count": 6,
     "metadata": {},
     "output_type": "execute_result"
    }
   ],
   "source": [
    "fuzzy_search('dead island epidemic')"
   ],
   "metadata": {
    "collapsed": false,
    "pycharm": {
     "name": "#%%\n"
    }
   }
  },
  {
   "cell_type": "code",
   "execution_count": 7,
   "outputs": [
    {
     "data": {
      "text/plain": "5155"
     },
     "execution_count": 7,
     "metadata": {},
     "output_type": "execute_result"
    }
   ],
   "source": [
    "len(userdb.name.unique())"
   ],
   "metadata": {
    "collapsed": false,
    "pycharm": {
     "name": "#%%\n"
    }
   }
  },
  {
   "cell_type": "code",
   "execution_count": 8,
   "outputs": [
    {
     "name": "stderr",
     "output_type": "stream",
     "text": [
      "100%|██████████| 5155/5155 [08:50<00:00,  9.71it/s]\n"
     ]
    }
   ],
   "source": [
    "name_id = {}\n",
    "for n in tqdm(userdb.name.unique()):\n",
    "    name_id[n] = fuzzy_search(n)"
   ],
   "metadata": {
    "collapsed": false,
    "pycharm": {
     "name": "#%%\n"
    }
   }
  },
  {
   "cell_type": "code",
   "execution_count": 9,
   "outputs": [],
   "source": [
    "userdb['appid'] = userdb['name'].apply(lambda x: name_id[x])\n",
    "userdb = userdb.dropna().astype({'appid': 'int'})"
   ],
   "metadata": {
    "collapsed": false,
    "pycharm": {
     "name": "#%%\n"
    }
   }
  },
  {
   "cell_type": "code",
   "execution_count": 10,
   "outputs": [
    {
     "data": {
      "text/plain": "              uid                        name action  playtime  0    appid\n1       151603712  The Elder Scrolls V Skyrim   play     273.0  0    72850\n3       151603712                   Fallout 4   play      87.0  0   377160\n5       151603712                       Spore   play      14.9  0    17390\n7       151603712           Fallout New Vegas   play      12.1  0    22380\n9       151603712               Left 4 Dead 2   play       8.9  0      550\n...           ...                         ...    ...       ... ..      ...\n199991  128470551                Fallen Earth   play       2.4  0  1314730\n199993  128470551                 Magic Duels   play       2.2  0   316010\n199995  128470551                 Titan Souls   play       1.5  0   297130\n199997  128470551  Grand Theft Auto Vice City   play       1.5  0    12110\n199999  128470551                        RUSH   play       1.4  0    38720\n\n[70489 rows x 6 columns]",
      "text/html": "<div>\n<style scoped>\n    .dataframe tbody tr th:only-of-type {\n        vertical-align: middle;\n    }\n\n    .dataframe tbody tr th {\n        vertical-align: top;\n    }\n\n    .dataframe thead th {\n        text-align: right;\n    }\n</style>\n<table border=\"1\" class=\"dataframe\">\n  <thead>\n    <tr style=\"text-align: right;\">\n      <th></th>\n      <th>uid</th>\n      <th>name</th>\n      <th>action</th>\n      <th>playtime</th>\n      <th>0</th>\n      <th>appid</th>\n    </tr>\n  </thead>\n  <tbody>\n    <tr>\n      <th>1</th>\n      <td>151603712</td>\n      <td>The Elder Scrolls V Skyrim</td>\n      <td>play</td>\n      <td>273.0</td>\n      <td>0</td>\n      <td>72850</td>\n    </tr>\n    <tr>\n      <th>3</th>\n      <td>151603712</td>\n      <td>Fallout 4</td>\n      <td>play</td>\n      <td>87.0</td>\n      <td>0</td>\n      <td>377160</td>\n    </tr>\n    <tr>\n      <th>5</th>\n      <td>151603712</td>\n      <td>Spore</td>\n      <td>play</td>\n      <td>14.9</td>\n      <td>0</td>\n      <td>17390</td>\n    </tr>\n    <tr>\n      <th>7</th>\n      <td>151603712</td>\n      <td>Fallout New Vegas</td>\n      <td>play</td>\n      <td>12.1</td>\n      <td>0</td>\n      <td>22380</td>\n    </tr>\n    <tr>\n      <th>9</th>\n      <td>151603712</td>\n      <td>Left 4 Dead 2</td>\n      <td>play</td>\n      <td>8.9</td>\n      <td>0</td>\n      <td>550</td>\n    </tr>\n    <tr>\n      <th>...</th>\n      <td>...</td>\n      <td>...</td>\n      <td>...</td>\n      <td>...</td>\n      <td>...</td>\n      <td>...</td>\n    </tr>\n    <tr>\n      <th>199991</th>\n      <td>128470551</td>\n      <td>Fallen Earth</td>\n      <td>play</td>\n      <td>2.4</td>\n      <td>0</td>\n      <td>1314730</td>\n    </tr>\n    <tr>\n      <th>199993</th>\n      <td>128470551</td>\n      <td>Magic Duels</td>\n      <td>play</td>\n      <td>2.2</td>\n      <td>0</td>\n      <td>316010</td>\n    </tr>\n    <tr>\n      <th>199995</th>\n      <td>128470551</td>\n      <td>Titan Souls</td>\n      <td>play</td>\n      <td>1.5</td>\n      <td>0</td>\n      <td>297130</td>\n    </tr>\n    <tr>\n      <th>199997</th>\n      <td>128470551</td>\n      <td>Grand Theft Auto Vice City</td>\n      <td>play</td>\n      <td>1.5</td>\n      <td>0</td>\n      <td>12110</td>\n    </tr>\n    <tr>\n      <th>199999</th>\n      <td>128470551</td>\n      <td>RUSH</td>\n      <td>play</td>\n      <td>1.4</td>\n      <td>0</td>\n      <td>38720</td>\n    </tr>\n  </tbody>\n</table>\n<p>70489 rows × 6 columns</p>\n</div>"
     },
     "execution_count": 10,
     "metadata": {},
     "output_type": "execute_result"
    }
   ],
   "source": [
    "userdb_noweights = userdb[userdb['action'] == 'play']\n",
    "userdb_noweights"
   ],
   "metadata": {
    "collapsed": false,
    "pycharm": {
     "name": "#%%\n"
    }
   }
  },
  {
   "cell_type": "code",
   "execution_count": 11,
   "outputs": [
    {
     "data": {
      "text/plain": "1           72850\n3          377160\n5           17390\n7           22380\n9             550\n           ...   \n199991    1314730\n199993     316010\n199995     297130\n199997      12110\n199999      38720\nName: appid, Length: 70489, dtype: int64"
     },
     "execution_count": 11,
     "metadata": {},
     "output_type": "execute_result"
    }
   ],
   "source": [
    "userdb_noweights['appid']"
   ],
   "metadata": {
    "collapsed": false,
    "pycharm": {
     "name": "#%%\n"
    }
   }
  },
  {
   "cell_type": "code",
   "execution_count": 12,
   "outputs": [
    {
     "data": {
      "text/plain": "3337"
     },
     "execution_count": 12,
     "metadata": {},
     "output_type": "execute_result"
    }
   ],
   "source": [
    "len(userdb_noweights.appid.unique())"
   ],
   "metadata": {
    "collapsed": false,
    "pycharm": {
     "name": "#%%\n"
    }
   }
  },
  {
   "cell_type": "code",
   "execution_count": 13,
   "outputs": [],
   "source": [
    "sparseusers = userdb_noweights.pivot_table(index='uid', columns='appid', values='playtime', aggfunc='sum')"
   ],
   "metadata": {
    "collapsed": false,
    "pycharm": {
     "name": "#%%\n"
    }
   }
  },
  {
   "cell_type": "code",
   "execution_count": 14,
   "outputs": [],
   "source": [
    "sparseusers = np.nan_to_num(sparseusers, 0)\n",
    "\n"
   ],
   "metadata": {
    "collapsed": false,
    "pycharm": {
     "name": "#%%\n"
    }
   }
  },
  {
   "cell_type": "code",
   "execution_count": 15,
   "outputs": [],
   "source": [
    "usernorm = Normalizer(norm='l1').fit_transform(sparseusers)\n",
    "usersims = cosine_similarity(usernorm)"
   ],
   "metadata": {
    "collapsed": false,
    "pycharm": {
     "name": "#%%\n"
    }
   }
  },
  {
   "cell_type": "code",
   "execution_count": 16,
   "outputs": [],
   "source": [
    "np.savetxt('games_list.txt', userdb_noweights['name'].unique(), fmt='%s')"
   ],
   "metadata": {
    "collapsed": false,
    "pycharm": {
     "name": "#%%\n"
    }
   }
  },
  {
   "cell_type": "code",
   "execution_count": 16,
   "outputs": [],
   "source": [],
   "metadata": {
    "collapsed": false,
    "pycharm": {
     "name": "#%%\n"
    }
   }
  },
  {
   "cell_type": "code",
   "execution_count": null,
   "outputs": [],
   "source": [],
   "metadata": {
    "collapsed": false,
    "pycharm": {
     "name": "#%%\n"
    }
   }
  }
 ],
 "metadata": {
  "kernelspec": {
   "display_name": "Python 3",
   "language": "python",
   "name": "python3"
  },
  "language_info": {
   "codemirror_mode": {
    "name": "ipython",
    "version": 2
   },
   "file_extension": ".py",
   "mimetype": "text/x-python",
   "name": "python",
   "nbconvert_exporter": "python",
   "pygments_lexer": "ipython2",
   "version": "2.7.6"
  }
 },
 "nbformat": 4,
 "nbformat_minor": 0
}